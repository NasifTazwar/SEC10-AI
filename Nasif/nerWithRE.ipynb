{
  "nbformat": 4,
  "nbformat_minor": 0,
  "metadata": {
    "colab": {
      "name": "nerWithRE.ipynb",
      "provenance": [],
      "collapsed_sections": []
    },
    "kernelspec": {
      "name": "python3",
      "display_name": "Python 3"
    },
    "language_info": {
      "name": "python"
    }
  },
  "cells": [
    {
      "cell_type": "code",
      "metadata": {
        "id": "LvRXvNcDP4VS"
      },
      "source": [
        "import re\n",
        "\n",
        "string1 = '''\n",
        "Jessica's mobile no is 01534674855 jj123@akl.com registration no 2016331611 department CSE, and Daniel's mobile no is +8801796532518 email is jj@gmail.com registration no 2016331321 department CE.\n",
        "Edward's mobile no is 8801534674855 2j123@gmail.com registration no 2016331419 department EEE, and his grandfather, Oscar's  mobile no is 01726775913 jj@gmail.net registration no 2016331571 department IPE.\n",
        "'''"
      ],
      "execution_count": null,
      "outputs": []
    },
    {
      "cell_type": "code",
      "metadata": {
        "id": "4Q_SQ7MkQgfe"
      },
      "source": [
        "def checkRE(string):\n",
        "  names = re.findall(r'\\b[A-Z][a-z]*\\b',string)\n",
        "  email = re.findall(r'\\b[a-zA-Z0-9._%+-]+@[a-zA-Z0-9.-]+\\.[a-zA-Z]{2,}\\b',string)\n",
        "  mobile = re.findall(r'[8]*01[15-9]\\d{8}',string)\n",
        "  regNo = re.findall(r'2016331\\d{3}',string)\n",
        "  dept = re.findall(r'[A-Z][A-Z]E|[A-Z]E',string)\n",
        "  return mobile,names,email,regNo,dept"
      ],
      "execution_count": null,
      "outputs": []
    },
    {
      "cell_type": "code",
      "metadata": {
        "colab": {
          "base_uri": "https://localhost:8080/"
        },
        "id": "1xTcX-1-RKtL",
        "outputId": "dae0cbc2-fb43-46ec-8889-93484f66d493"
      },
      "source": [
        "string = input()\n",
        "val = checkRE(string)\n",
        "print(val)"
      ],
      "execution_count": null,
      "outputs": [
        {
          "output_type": "stream",
          "text": [
            "Jessica's mobile no is 01534674855 jj123@akl.com registration no 2016331611 department CSE, and Daniel's mobile no is +8801796532518 email is jj@gmail.com registration no 2016331321 department CE. Edward's mobile no is 8801534674855 2j123@gmail.com registration no 2016331419 department EEE, and his grandfather, Oscar's  mobile no is 01726775913 jj@gmail.net registration no 2016331571 department IPE.\n",
            "(['01534674855', '8801796532518', '8801534674855', '01726775913'], ['Jessica', 'Daniel', 'Edward', 'Oscar'], ['jj123@akl.com', 'jj@gmail.com', '2j123@gmail.com', 'jj@gmail.net'], ['2016331611', '2016331321', '2016331419', '2016331571'], ['CSE', 'CE', 'EEE', 'IPE'])\n"
          ],
          "name": "stdout"
        }
      ]
    },
    {
      "cell_type": "code",
      "metadata": {
        "id": "OOZcUT64enqk"
      },
      "source": [
        ""
      ],
      "execution_count": null,
      "outputs": []
    }
  ]
}