{
  "nbformat": 4,
  "nbformat_minor": 0,
  "metadata": {
    "colab": {
      "name": "Linear Regression: Exam Marks Prediction.ipynb",
      "provenance": [],
      "collapsed_sections": []
    },
    "kernelspec": {
      "name": "python3",
      "display_name": "Python 3"
    },
    "language_info": {
      "name": "python"
    }
  },
  "cells": [
    {
      "cell_type": "markdown",
      "metadata": {
        "id": "qmTFnz4Zg_cp"
      },
      "source": [
        "# **To Predict the percentage of marks of the students based on the number of hours they studied**"
      ]
    },
    {
      "cell_type": "code",
      "metadata": {
        "id": "bo-jmvtPhcya"
      },
      "source": [
        "# importing libraries\n",
        "import pandas as pd\n",
        "import numpy as np\n",
        "import matplotlib.pyplot as plt \n",
        "import seaborn as sns\n",
        "from sklearn.model_selection import train_test_split\n",
        "from sklearn.linear_model import LinearRegression\n",
        "from sklearn.metrics import mean_absolute_error\n",
        "from sklearn.metrics import mean_squared_error"
      ],
      "execution_count": null,
      "outputs": []
    },
    {
      "cell_type": "code",
      "metadata": {
        "colab": {
          "base_uri": "https://localhost:8080/",
          "height": 363
        },
        "id": "09dKWZ8Vh4uJ",
        "outputId": "a43fc34a-f415-4baf-a11c-d3fcd69f511f"
      },
      "source": [
        "# Reading Data \n",
        "data = pd.read_csv('https://raw.githubusercontent.com/JatinSadhwani02/Student_Marks_Prediction_Machine_Learning/master/student_info.csv')\n",
        "data.head(10)"
      ],
      "execution_count": null,
      "outputs": [
        {
          "output_type": "execute_result",
          "data": {
            "text/html": [
              "<div>\n",
              "<style scoped>\n",
              "    .dataframe tbody tr th:only-of-type {\n",
              "        vertical-align: middle;\n",
              "    }\n",
              "\n",
              "    .dataframe tbody tr th {\n",
              "        vertical-align: top;\n",
              "    }\n",
              "\n",
              "    .dataframe thead th {\n",
              "        text-align: right;\n",
              "    }\n",
              "</style>\n",
              "<table border=\"1\" class=\"dataframe\">\n",
              "  <thead>\n",
              "    <tr style=\"text-align: right;\">\n",
              "      <th></th>\n",
              "      <th>study_hours</th>\n",
              "      <th>student_marks</th>\n",
              "    </tr>\n",
              "  </thead>\n",
              "  <tbody>\n",
              "    <tr>\n",
              "      <th>0</th>\n",
              "      <td>6.83</td>\n",
              "      <td>78.50</td>\n",
              "    </tr>\n",
              "    <tr>\n",
              "      <th>1</th>\n",
              "      <td>6.56</td>\n",
              "      <td>76.74</td>\n",
              "    </tr>\n",
              "    <tr>\n",
              "      <th>2</th>\n",
              "      <td>NaN</td>\n",
              "      <td>78.68</td>\n",
              "    </tr>\n",
              "    <tr>\n",
              "      <th>3</th>\n",
              "      <td>5.67</td>\n",
              "      <td>71.82</td>\n",
              "    </tr>\n",
              "    <tr>\n",
              "      <th>4</th>\n",
              "      <td>8.67</td>\n",
              "      <td>84.19</td>\n",
              "    </tr>\n",
              "    <tr>\n",
              "      <th>5</th>\n",
              "      <td>7.55</td>\n",
              "      <td>81.18</td>\n",
              "    </tr>\n",
              "    <tr>\n",
              "      <th>6</th>\n",
              "      <td>6.67</td>\n",
              "      <td>76.99</td>\n",
              "    </tr>\n",
              "    <tr>\n",
              "      <th>7</th>\n",
              "      <td>8.99</td>\n",
              "      <td>85.46</td>\n",
              "    </tr>\n",
              "    <tr>\n",
              "      <th>8</th>\n",
              "      <td>5.19</td>\n",
              "      <td>70.66</td>\n",
              "    </tr>\n",
              "    <tr>\n",
              "      <th>9</th>\n",
              "      <td>6.75</td>\n",
              "      <td>77.82</td>\n",
              "    </tr>\n",
              "  </tbody>\n",
              "</table>\n",
              "</div>"
            ],
            "text/plain": [
              "   study_hours  student_marks\n",
              "0         6.83          78.50\n",
              "1         6.56          76.74\n",
              "2          NaN          78.68\n",
              "3         5.67          71.82\n",
              "4         8.67          84.19\n",
              "5         7.55          81.18\n",
              "6         6.67          76.99\n",
              "7         8.99          85.46\n",
              "8         5.19          70.66\n",
              "9         6.75          77.82"
            ]
          },
          "metadata": {},
          "execution_count": 3
        }
      ]
    },
    {
      "cell_type": "code",
      "metadata": {
        "colab": {
          "base_uri": "https://localhost:8080/",
          "height": 206
        },
        "id": "w8aDepKQjRe6",
        "outputId": "c316526c-31e5-43b4-fe78-ae7a0d6d73c8"
      },
      "source": [
        "data.tail()"
      ],
      "execution_count": null,
      "outputs": [
        {
          "output_type": "execute_result",
          "data": {
            "text/html": [
              "<div>\n",
              "<style scoped>\n",
              "    .dataframe tbody tr th:only-of-type {\n",
              "        vertical-align: middle;\n",
              "    }\n",
              "\n",
              "    .dataframe tbody tr th {\n",
              "        vertical-align: top;\n",
              "    }\n",
              "\n",
              "    .dataframe thead th {\n",
              "        text-align: right;\n",
              "    }\n",
              "</style>\n",
              "<table border=\"1\" class=\"dataframe\">\n",
              "  <thead>\n",
              "    <tr style=\"text-align: right;\">\n",
              "      <th></th>\n",
              "      <th>study_hours</th>\n",
              "      <th>student_marks</th>\n",
              "    </tr>\n",
              "  </thead>\n",
              "  <tbody>\n",
              "    <tr>\n",
              "      <th>195</th>\n",
              "      <td>7.53</td>\n",
              "      <td>81.67</td>\n",
              "    </tr>\n",
              "    <tr>\n",
              "      <th>196</th>\n",
              "      <td>8.56</td>\n",
              "      <td>84.68</td>\n",
              "    </tr>\n",
              "    <tr>\n",
              "      <th>197</th>\n",
              "      <td>8.94</td>\n",
              "      <td>86.75</td>\n",
              "    </tr>\n",
              "    <tr>\n",
              "      <th>198</th>\n",
              "      <td>6.60</td>\n",
              "      <td>78.05</td>\n",
              "    </tr>\n",
              "    <tr>\n",
              "      <th>199</th>\n",
              "      <td>8.35</td>\n",
              "      <td>83.50</td>\n",
              "    </tr>\n",
              "  </tbody>\n",
              "</table>\n",
              "</div>"
            ],
            "text/plain": [
              "     study_hours  student_marks\n",
              "195         7.53          81.67\n",
              "196         8.56          84.68\n",
              "197         8.94          86.75\n",
              "198         6.60          78.05\n",
              "199         8.35          83.50"
            ]
          },
          "metadata": {},
          "execution_count": 5
        }
      ]
    },
    {
      "cell_type": "markdown",
      "metadata": {
        "id": "DhldxWcHjnb_"
      },
      "source": [
        "Checking Null Values"
      ]
    },
    {
      "cell_type": "code",
      "metadata": {
        "colab": {
          "base_uri": "https://localhost:8080/"
        },
        "id": "UOdwFzY-i8rJ",
        "outputId": "12e86909-b169-4eaf-a820-1774be292ad6"
      },
      "source": [
        "data.isnull == True"
      ],
      "execution_count": null,
      "outputs": [
        {
          "output_type": "execute_result",
          "data": {
            "text/plain": [
              "False"
            ]
          },
          "metadata": {},
          "execution_count": 4
        }
      ]
    },
    {
      "cell_type": "code",
      "metadata": {
        "colab": {
          "base_uri": "https://localhost:8080/"
        },
        "id": "hq4OFqvMjm83",
        "outputId": "a790e8b7-a2ed-488a-d467-d832bcc5a58e"
      },
      "source": [
        "data.isnull().sum()"
      ],
      "execution_count": null,
      "outputs": [
        {
          "output_type": "execute_result",
          "data": {
            "text/plain": [
              "study_hours      5\n",
              "student_marks    0\n",
              "dtype: int64"
            ]
          },
          "metadata": {},
          "execution_count": 7
        }
      ]
    },
    {
      "cell_type": "code",
      "metadata": {
        "colab": {
          "base_uri": "https://localhost:8080/"
        },
        "id": "5JkQLmsfjz_W",
        "outputId": "cc5b0a42-279f-48e9-88c5-fbecf9cbf8b7"
      },
      "source": [
        "data.mean()"
      ],
      "execution_count": null,
      "outputs": [
        {
          "output_type": "execute_result",
          "data": {
            "text/plain": [
              "study_hours       6.995949\n",
              "student_marks    77.933750\n",
              "dtype: float64"
            ]
          },
          "metadata": {},
          "execution_count": 9
        }
      ]
    },
    {
      "cell_type": "code",
      "metadata": {
        "id": "3LRtL5cDj_J4"
      },
      "source": [
        "data2 = data.fillna(data.mean())"
      ],
      "execution_count": null,
      "outputs": []
    },
    {
      "cell_type": "code",
      "metadata": {
        "colab": {
          "base_uri": "https://localhost:8080/",
          "height": 206
        },
        "id": "U_8b_BbukFtG",
        "outputId": "cfc9b979-29b4-4844-ce58-86dfe5faa3fc"
      },
      "source": [
        "data2.head()"
      ],
      "execution_count": null,
      "outputs": [
        {
          "output_type": "execute_result",
          "data": {
            "text/html": [
              "<div>\n",
              "<style scoped>\n",
              "    .dataframe tbody tr th:only-of-type {\n",
              "        vertical-align: middle;\n",
              "    }\n",
              "\n",
              "    .dataframe tbody tr th {\n",
              "        vertical-align: top;\n",
              "    }\n",
              "\n",
              "    .dataframe thead th {\n",
              "        text-align: right;\n",
              "    }\n",
              "</style>\n",
              "<table border=\"1\" class=\"dataframe\">\n",
              "  <thead>\n",
              "    <tr style=\"text-align: right;\">\n",
              "      <th></th>\n",
              "      <th>study_hours</th>\n",
              "      <th>student_marks</th>\n",
              "    </tr>\n",
              "  </thead>\n",
              "  <tbody>\n",
              "    <tr>\n",
              "      <th>0</th>\n",
              "      <td>6.830000</td>\n",
              "      <td>78.50</td>\n",
              "    </tr>\n",
              "    <tr>\n",
              "      <th>1</th>\n",
              "      <td>6.560000</td>\n",
              "      <td>76.74</td>\n",
              "    </tr>\n",
              "    <tr>\n",
              "      <th>2</th>\n",
              "      <td>6.995949</td>\n",
              "      <td>78.68</td>\n",
              "    </tr>\n",
              "    <tr>\n",
              "      <th>3</th>\n",
              "      <td>5.670000</td>\n",
              "      <td>71.82</td>\n",
              "    </tr>\n",
              "    <tr>\n",
              "      <th>4</th>\n",
              "      <td>8.670000</td>\n",
              "      <td>84.19</td>\n",
              "    </tr>\n",
              "  </tbody>\n",
              "</table>\n",
              "</div>"
            ],
            "text/plain": [
              "   study_hours  student_marks\n",
              "0     6.830000          78.50\n",
              "1     6.560000          76.74\n",
              "2     6.995949          78.68\n",
              "3     5.670000          71.82\n",
              "4     8.670000          84.19"
            ]
          },
          "metadata": {},
          "execution_count": 11
        }
      ]
    },
    {
      "cell_type": "code",
      "metadata": {
        "colab": {
          "base_uri": "https://localhost:8080/"
        },
        "id": "LbqRKXZlkQYQ",
        "outputId": "0bbb82b6-6595-45ac-e861-f1980553e4d3"
      },
      "source": [
        "data2.isnull().sum()"
      ],
      "execution_count": null,
      "outputs": [
        {
          "output_type": "execute_result",
          "data": {
            "text/plain": [
              "study_hours      0\n",
              "student_marks    0\n",
              "dtype: int64"
            ]
          },
          "metadata": {},
          "execution_count": 12
        }
      ]
    },
    {
      "cell_type": "markdown",
      "metadata": {
        "id": "kpVZCTDykucy"
      },
      "source": [
        "Visualize Data"
      ]
    },
    {
      "cell_type": "code",
      "metadata": {
        "colab": {
          "base_uri": "https://localhost:8080/",
          "height": 300
        },
        "id": "WjOHQhr7kxRa",
        "outputId": "047e7371-c304-429f-aaf3-83b1364f4355"
      },
      "source": [
        "data.describe()"
      ],
      "execution_count": null,
      "outputs": [
        {
          "output_type": "execute_result",
          "data": {
            "text/html": [
              "<div>\n",
              "<style scoped>\n",
              "    .dataframe tbody tr th:only-of-type {\n",
              "        vertical-align: middle;\n",
              "    }\n",
              "\n",
              "    .dataframe tbody tr th {\n",
              "        vertical-align: top;\n",
              "    }\n",
              "\n",
              "    .dataframe thead th {\n",
              "        text-align: right;\n",
              "    }\n",
              "</style>\n",
              "<table border=\"1\" class=\"dataframe\">\n",
              "  <thead>\n",
              "    <tr style=\"text-align: right;\">\n",
              "      <th></th>\n",
              "      <th>study_hours</th>\n",
              "      <th>student_marks</th>\n",
              "    </tr>\n",
              "  </thead>\n",
              "  <tbody>\n",
              "    <tr>\n",
              "      <th>count</th>\n",
              "      <td>195.000000</td>\n",
              "      <td>200.00000</td>\n",
              "    </tr>\n",
              "    <tr>\n",
              "      <th>mean</th>\n",
              "      <td>6.995949</td>\n",
              "      <td>77.93375</td>\n",
              "    </tr>\n",
              "    <tr>\n",
              "      <th>std</th>\n",
              "      <td>1.253060</td>\n",
              "      <td>4.92570</td>\n",
              "    </tr>\n",
              "    <tr>\n",
              "      <th>min</th>\n",
              "      <td>5.010000</td>\n",
              "      <td>68.57000</td>\n",
              "    </tr>\n",
              "    <tr>\n",
              "      <th>25%</th>\n",
              "      <td>5.775000</td>\n",
              "      <td>73.38500</td>\n",
              "    </tr>\n",
              "    <tr>\n",
              "      <th>50%</th>\n",
              "      <td>7.120000</td>\n",
              "      <td>77.71000</td>\n",
              "    </tr>\n",
              "    <tr>\n",
              "      <th>75%</th>\n",
              "      <td>8.085000</td>\n",
              "      <td>82.32000</td>\n",
              "    </tr>\n",
              "    <tr>\n",
              "      <th>max</th>\n",
              "      <td>8.990000</td>\n",
              "      <td>86.99000</td>\n",
              "    </tr>\n",
              "  </tbody>\n",
              "</table>\n",
              "</div>"
            ],
            "text/plain": [
              "       study_hours  student_marks\n",
              "count   195.000000      200.00000\n",
              "mean      6.995949       77.93375\n",
              "std       1.253060        4.92570\n",
              "min       5.010000       68.57000\n",
              "25%       5.775000       73.38500\n",
              "50%       7.120000       77.71000\n",
              "75%       8.085000       82.32000\n",
              "max       8.990000       86.99000"
            ]
          },
          "metadata": {},
          "execution_count": 13
        }
      ]
    },
    {
      "cell_type": "code",
      "metadata": {
        "colab": {
          "base_uri": "https://localhost:8080/",
          "height": 300
        },
        "id": "HOOHyNdTk8bP",
        "outputId": "8e92afde-6d1b-4b32-c8ae-b2ce1a649528"
      },
      "source": [
        "data2.describe()"
      ],
      "execution_count": null,
      "outputs": [
        {
          "output_type": "execute_result",
          "data": {
            "text/html": [
              "<div>\n",
              "<style scoped>\n",
              "    .dataframe tbody tr th:only-of-type {\n",
              "        vertical-align: middle;\n",
              "    }\n",
              "\n",
              "    .dataframe tbody tr th {\n",
              "        vertical-align: top;\n",
              "    }\n",
              "\n",
              "    .dataframe thead th {\n",
              "        text-align: right;\n",
              "    }\n",
              "</style>\n",
              "<table border=\"1\" class=\"dataframe\">\n",
              "  <thead>\n",
              "    <tr style=\"text-align: right;\">\n",
              "      <th></th>\n",
              "      <th>study_hours</th>\n",
              "      <th>student_marks</th>\n",
              "    </tr>\n",
              "  </thead>\n",
              "  <tbody>\n",
              "    <tr>\n",
              "      <th>count</th>\n",
              "      <td>200.000000</td>\n",
              "      <td>200.00000</td>\n",
              "    </tr>\n",
              "    <tr>\n",
              "      <th>mean</th>\n",
              "      <td>6.995949</td>\n",
              "      <td>77.93375</td>\n",
              "    </tr>\n",
              "    <tr>\n",
              "      <th>std</th>\n",
              "      <td>1.237218</td>\n",
              "      <td>4.92570</td>\n",
              "    </tr>\n",
              "    <tr>\n",
              "      <th>min</th>\n",
              "      <td>5.010000</td>\n",
              "      <td>68.57000</td>\n",
              "    </tr>\n",
              "    <tr>\n",
              "      <th>25%</th>\n",
              "      <td>5.790000</td>\n",
              "      <td>73.38500</td>\n",
              "    </tr>\n",
              "    <tr>\n",
              "      <th>50%</th>\n",
              "      <td>7.002974</td>\n",
              "      <td>77.71000</td>\n",
              "    </tr>\n",
              "    <tr>\n",
              "      <th>75%</th>\n",
              "      <td>8.072500</td>\n",
              "      <td>82.32000</td>\n",
              "    </tr>\n",
              "    <tr>\n",
              "      <th>max</th>\n",
              "      <td>8.990000</td>\n",
              "      <td>86.99000</td>\n",
              "    </tr>\n",
              "  </tbody>\n",
              "</table>\n",
              "</div>"
            ],
            "text/plain": [
              "       study_hours  student_marks\n",
              "count   200.000000      200.00000\n",
              "mean      6.995949       77.93375\n",
              "std       1.237218        4.92570\n",
              "min       5.010000       68.57000\n",
              "25%       5.790000       73.38500\n",
              "50%       7.002974       77.71000\n",
              "75%       8.072500       82.32000\n",
              "max       8.990000       86.99000"
            ]
          },
          "metadata": {},
          "execution_count": 14
        }
      ]
    },
    {
      "cell_type": "code",
      "metadata": {
        "colab": {
          "base_uri": "https://localhost:8080/",
          "height": 306
        },
        "id": "3X_WjTH4ldHF",
        "outputId": "76b79811-65e2-444d-e4b3-758d56e12986"
      },
      "source": [
        "sns.set_theme(style=\"darkgrid\")\n",
        "sns.regplot(x= data2['study_hours'], y= data2['student_marks'] ,marker='+',color=\"m\")\n",
        "plt.title('Regression Plot',size=20 ,color = \"r\")\n",
        "plt.ylabel('Marks Percentage', size=12)\n",
        "plt.xlabel('Hours Studied', size=12)\n",
        "plt.show()"
      ],
      "execution_count": null,
      "outputs": [
        {
          "output_type": "display_data",
          "data": {
            "image/png": "[encoded data removed]",
            "text/plain": [
              "<Figure size 432x288 with 1 Axes>"
            ]
          },
          "metadata": {}
        }
      ]
    },
    {
      "cell_type": "markdown",
      "metadata": {
        "id": "R314eOl4s1MQ"
      },
      "source": [
        "\n",
        "Split Dataset¶"
      ]
    },
    {
      "cell_type": "code",
      "metadata": {
        "id": "zlfouRwos2VN"
      },
      "source": [
        "X = data2.drop(\"student_marks\", axis = \"columns\")\n",
        "y = data2.drop(\"study_hours\", axis = \"columns\")"
      ],
      "execution_count": null,
      "outputs": []
    },
    {
      "cell_type": "code",
      "metadata": {
        "id": "a9UbQgCwtOVI"
      },
      "source": [
        "X_train, X_test, y_train, y_test = train_test_split(X,y, test_size=0.2, random_state=51 )"
      ],
      "execution_count": null,
      "outputs": []
    },
    {
      "cell_type": "markdown",
      "metadata": {
        "id": "3hUudqn8t416"
      },
      "source": [
        "Train Dataset"
      ]
    },
    {
      "cell_type": "code",
      "metadata": {
        "id": "_gU5YiR3t63t"
      },
      "source": [
        "lr = LinearRegression()"
      ],
      "execution_count": null,
      "outputs": []
    },
    {
      "cell_type": "code",
      "metadata": {
        "colab": {
          "base_uri": "https://localhost:8080/"
        },
        "id": "GN4Di8NcuOp5",
        "outputId": "ba4dfa5b-102a-4dfc-a937-6b50b18ce211"
      },
      "source": [
        "lr.fit(X_train , y_train)"
      ],
      "execution_count": null,
      "outputs": [
        {
          "output_type": "execute_result",
          "data": {
            "text/plain": [
              "LinearRegression(copy_X=True, fit_intercept=True, n_jobs=None, normalize=False)"
            ]
          },
          "metadata": {},
          "execution_count": 50
        }
      ]
    },
    {
      "cell_type": "markdown",
      "metadata": {
        "id": "6xulGzifuWgQ"
      },
      "source": [
        "Predicting the Marks in percentage"
      ]
    },
    {
      "cell_type": "code",
      "metadata": {
        "colab": {
          "base_uri": "https://localhost:8080/"
        },
        "id": "XOup_vMjubBe",
        "outputId": "e948726d-9cd1-4780-e904-560e691f41f1"
      },
      "source": [
        "y_pred = lr.predict(X_test)\n",
        "y_pred"
      ],
      "execution_count": null,
      "outputs": [
        {
          "output_type": "execute_result",
          "data": {
            "text/plain": [
              "array([[83.11381458],\n",
              "       [78.9025963 ],\n",
              "       [84.57003024],\n",
              "       [85.82946001],\n",
              "       [84.72745896],\n",
              "       [80.75238377],\n",
              "       [72.84159055],\n",
              "       [71.66087515],\n",
              "       [73.23516235],\n",
              "       [71.66087515],\n",
              "       [73.47130543],\n",
              "       [76.38373677],\n",
              "       [73.23516235],\n",
              "       [73.58937697],\n",
              "       [82.95638585],\n",
              "       [70.40144538],\n",
              "       [73.23516235],\n",
              "       [78.74516758],\n",
              "       [75.55723598],\n",
              "       [82.68088559],\n",
              "       [76.65923703],\n",
              "       [70.48015974],\n",
              "       [74.77009238],\n",
              "       [77.98143645],\n",
              "       [85.59331693],\n",
              "       [82.56281405],\n",
              "       [76.42309395],\n",
              "       [85.0423164 ],\n",
              "       [78.39095296],\n",
              "       [81.38209865],\n",
              "       [81.73631327],\n",
              "       [83.15317176],\n",
              "       [82.20859943],\n",
              "       [81.10659839],\n",
              "       [73.58937697],\n",
              "       [71.1492318 ],\n",
              "       [71.89701823],\n",
              "       [81.53952737],\n",
              "       [72.60544747],\n",
              "       [71.93637541]])"
            ]
          },
          "metadata": {},
          "execution_count": 55
        }
      ]
    },
    {
      "cell_type": "code",
      "metadata": {
        "colab": {
          "base_uri": "https://localhost:8080/",
          "height": 1000
        },
        "id": "JbfXYtf6v3NR",
        "outputId": "fc76db27-f812-4bca-a070-c5e69914c727"
      },
      "source": [
        "pd.DataFrame( np.c_[X_test,y_test,y_pred], columns = [\"study_hours\",\"student_marks\",\"predicted_student_marks\"] )"
      ],
      "execution_count": null,
      "outputs": [
        {
          "output_type": "execute_result",
          "data": {
            "text/html": [
              "<div>\n",
              "<style scoped>\n",
              "    .dataframe tbody tr th:only-of-type {\n",
              "        vertical-align: middle;\n",
              "    }\n",
              "\n",
              "    .dataframe tbody tr th {\n",
              "        vertical-align: top;\n",
              "    }\n",
              "\n",
              "    .dataframe thead th {\n",
              "        text-align: right;\n",
              "    }\n",
              "</style>\n",
              "<table border=\"1\" class=\"dataframe\">\n",
              "  <thead>\n",
              "    <tr style=\"text-align: right;\">\n",
              "      <th></th>\n",
              "      <th>study_hours</th>\n",
              "      <th>student_marks</th>\n",
              "      <th>predicted_student_marks</th>\n",
              "    </tr>\n",
              "  </thead>\n",
              "  <tbody>\n",
              "    <tr>\n",
              "      <th>0</th>\n",
              "      <td>8.300000</td>\n",
              "      <td>82.02</td>\n",
              "      <td>83.113815</td>\n",
              "    </tr>\n",
              "    <tr>\n",
              "      <th>1</th>\n",
              "      <td>7.230000</td>\n",
              "      <td>77.55</td>\n",
              "      <td>78.902596</td>\n",
              "    </tr>\n",
              "    <tr>\n",
              "      <th>2</th>\n",
              "      <td>8.670000</td>\n",
              "      <td>84.19</td>\n",
              "      <td>84.570030</td>\n",
              "    </tr>\n",
              "    <tr>\n",
              "      <th>3</th>\n",
              "      <td>8.990000</td>\n",
              "      <td>85.46</td>\n",
              "      <td>85.829460</td>\n",
              "    </tr>\n",
              "    <tr>\n",
              "      <th>4</th>\n",
              "      <td>8.710000</td>\n",
              "      <td>84.03</td>\n",
              "      <td>84.727459</td>\n",
              "    </tr>\n",
              "    <tr>\n",
              "      <th>5</th>\n",
              "      <td>7.700000</td>\n",
              "      <td>80.81</td>\n",
              "      <td>80.752384</td>\n",
              "    </tr>\n",
              "    <tr>\n",
              "      <th>6</th>\n",
              "      <td>5.690000</td>\n",
              "      <td>73.61</td>\n",
              "      <td>72.841591</td>\n",
              "    </tr>\n",
              "    <tr>\n",
              "      <th>7</th>\n",
              "      <td>5.390000</td>\n",
              "      <td>70.90</td>\n",
              "      <td>71.660875</td>\n",
              "    </tr>\n",
              "    <tr>\n",
              "      <th>8</th>\n",
              "      <td>5.790000</td>\n",
              "      <td>73.14</td>\n",
              "      <td>73.235162</td>\n",
              "    </tr>\n",
              "    <tr>\n",
              "      <th>9</th>\n",
              "      <td>5.390000</td>\n",
              "      <td>73.02</td>\n",
              "      <td>71.660875</td>\n",
              "    </tr>\n",
              "    <tr>\n",
              "      <th>10</th>\n",
              "      <td>5.850000</td>\n",
              "      <td>75.02</td>\n",
              "      <td>73.471305</td>\n",
              "    </tr>\n",
              "    <tr>\n",
              "      <th>11</th>\n",
              "      <td>6.590000</td>\n",
              "      <td>75.37</td>\n",
              "      <td>76.383737</td>\n",
              "    </tr>\n",
              "    <tr>\n",
              "      <th>12</th>\n",
              "      <td>5.790000</td>\n",
              "      <td>74.44</td>\n",
              "      <td>73.235162</td>\n",
              "    </tr>\n",
              "    <tr>\n",
              "      <th>13</th>\n",
              "      <td>5.880000</td>\n",
              "      <td>73.40</td>\n",
              "      <td>73.589377</td>\n",
              "    </tr>\n",
              "    <tr>\n",
              "      <th>14</th>\n",
              "      <td>8.260000</td>\n",
              "      <td>81.70</td>\n",
              "      <td>82.956386</td>\n",
              "    </tr>\n",
              "    <tr>\n",
              "      <th>15</th>\n",
              "      <td>5.070000</td>\n",
              "      <td>69.27</td>\n",
              "      <td>70.401445</td>\n",
              "    </tr>\n",
              "    <tr>\n",
              "      <th>16</th>\n",
              "      <td>5.790000</td>\n",
              "      <td>73.64</td>\n",
              "      <td>73.235162</td>\n",
              "    </tr>\n",
              "    <tr>\n",
              "      <th>17</th>\n",
              "      <td>7.190000</td>\n",
              "      <td>77.63</td>\n",
              "      <td>78.745168</td>\n",
              "    </tr>\n",
              "    <tr>\n",
              "      <th>18</th>\n",
              "      <td>6.380000</td>\n",
              "      <td>77.01</td>\n",
              "      <td>75.557236</td>\n",
              "    </tr>\n",
              "    <tr>\n",
              "      <th>19</th>\n",
              "      <td>8.190000</td>\n",
              "      <td>83.08</td>\n",
              "      <td>82.680886</td>\n",
              "    </tr>\n",
              "    <tr>\n",
              "      <th>20</th>\n",
              "      <td>6.660000</td>\n",
              "      <td>76.63</td>\n",
              "      <td>76.659237</td>\n",
              "    </tr>\n",
              "    <tr>\n",
              "      <th>21</th>\n",
              "      <td>5.090000</td>\n",
              "      <td>72.22</td>\n",
              "      <td>70.480160</td>\n",
              "    </tr>\n",
              "    <tr>\n",
              "      <th>22</th>\n",
              "      <td>6.180000</td>\n",
              "      <td>72.96</td>\n",
              "      <td>74.770092</td>\n",
              "    </tr>\n",
              "    <tr>\n",
              "      <th>23</th>\n",
              "      <td>6.995949</td>\n",
              "      <td>76.14</td>\n",
              "      <td>77.981436</td>\n",
              "    </tr>\n",
              "    <tr>\n",
              "      <th>24</th>\n",
              "      <td>8.930000</td>\n",
              "      <td>85.96</td>\n",
              "      <td>85.593317</td>\n",
              "    </tr>\n",
              "    <tr>\n",
              "      <th>25</th>\n",
              "      <td>8.160000</td>\n",
              "      <td>83.36</td>\n",
              "      <td>82.562814</td>\n",
              "    </tr>\n",
              "    <tr>\n",
              "      <th>26</th>\n",
              "      <td>6.600000</td>\n",
              "      <td>78.05</td>\n",
              "      <td>76.423094</td>\n",
              "    </tr>\n",
              "    <tr>\n",
              "      <th>27</th>\n",
              "      <td>8.790000</td>\n",
              "      <td>84.60</td>\n",
              "      <td>85.042316</td>\n",
              "    </tr>\n",
              "    <tr>\n",
              "      <th>28</th>\n",
              "      <td>7.100000</td>\n",
              "      <td>76.76</td>\n",
              "      <td>78.390953</td>\n",
              "    </tr>\n",
              "    <tr>\n",
              "      <th>29</th>\n",
              "      <td>7.860000</td>\n",
              "      <td>81.24</td>\n",
              "      <td>81.382099</td>\n",
              "    </tr>\n",
              "    <tr>\n",
              "      <th>30</th>\n",
              "      <td>7.950000</td>\n",
              "      <td>80.86</td>\n",
              "      <td>81.736313</td>\n",
              "    </tr>\n",
              "    <tr>\n",
              "      <th>31</th>\n",
              "      <td>8.310000</td>\n",
              "      <td>82.69</td>\n",
              "      <td>83.153172</td>\n",
              "    </tr>\n",
              "    <tr>\n",
              "      <th>32</th>\n",
              "      <td>8.070000</td>\n",
              "      <td>82.30</td>\n",
              "      <td>82.208599</td>\n",
              "    </tr>\n",
              "    <tr>\n",
              "      <th>33</th>\n",
              "      <td>7.790000</td>\n",
              "      <td>79.17</td>\n",
              "      <td>81.106598</td>\n",
              "    </tr>\n",
              "    <tr>\n",
              "      <th>34</th>\n",
              "      <td>5.880000</td>\n",
              "      <td>73.34</td>\n",
              "      <td>73.589377</td>\n",
              "    </tr>\n",
              "    <tr>\n",
              "      <th>35</th>\n",
              "      <td>5.260000</td>\n",
              "      <td>71.86</td>\n",
              "      <td>71.149232</td>\n",
              "    </tr>\n",
              "    <tr>\n",
              "      <th>36</th>\n",
              "      <td>5.450000</td>\n",
              "      <td>70.06</td>\n",
              "      <td>71.897018</td>\n",
              "    </tr>\n",
              "    <tr>\n",
              "      <th>37</th>\n",
              "      <td>7.900000</td>\n",
              "      <td>80.76</td>\n",
              "      <td>81.539527</td>\n",
              "    </tr>\n",
              "    <tr>\n",
              "      <th>38</th>\n",
              "      <td>5.630000</td>\n",
              "      <td>72.87</td>\n",
              "      <td>72.605447</td>\n",
              "    </tr>\n",
              "    <tr>\n",
              "      <th>39</th>\n",
              "      <td>5.460000</td>\n",
              "      <td>71.10</td>\n",
              "      <td>71.936375</td>\n",
              "    </tr>\n",
              "  </tbody>\n",
              "</table>\n",
              "</div>"
            ],
            "text/plain": [
              "    study_hours  student_marks  predicted_student_marks\n",
              "0      8.300000          82.02                83.113815\n",
              "1      7.230000          77.55                78.902596\n",
              "2      8.670000          84.19                84.570030\n",
              "3      8.990000          85.46                85.829460\n",
              "4      8.710000          84.03                84.727459\n",
              "5      7.700000          80.81                80.752384\n",
              "6      5.690000          73.61                72.841591\n",
              "7      5.390000          70.90                71.660875\n",
              "8      5.790000          73.14                73.235162\n",
              "9      5.390000          73.02                71.660875\n",
              "10     5.850000          75.02                73.471305\n",
              "11     6.590000          75.37                76.383737\n",
              "12     5.790000          74.44                73.235162\n",
              "13     5.880000          73.40                73.589377\n",
              "14     8.260000          81.70                82.956386\n",
              "15     5.070000          69.27                70.401445\n",
              "16     5.790000          73.64                73.235162\n",
              "17     7.190000          77.63                78.745168\n",
              "18     6.380000          77.01                75.557236\n",
              "19     8.190000          83.08                82.680886\n",
              "20     6.660000          76.63                76.659237\n",
              "21     5.090000          72.22                70.480160\n",
              "22     6.180000          72.96                74.770092\n",
              "23     6.995949          76.14                77.981436\n",
              "24     8.930000          85.96                85.593317\n",
              "25     8.160000          83.36                82.562814\n",
              "26     6.600000          78.05                76.423094\n",
              "27     8.790000          84.60                85.042316\n",
              "28     7.100000          76.76                78.390953\n",
              "29     7.860000          81.24                81.382099\n",
              "30     7.950000          80.86                81.736313\n",
              "31     8.310000          82.69                83.153172\n",
              "32     8.070000          82.30                82.208599\n",
              "33     7.790000          79.17                81.106598\n",
              "34     5.880000          73.34                73.589377\n",
              "35     5.260000          71.86                71.149232\n",
              "36     5.450000          70.06                71.897018\n",
              "37     7.900000          80.76                81.539527\n",
              "38     5.630000          72.87                72.605447\n",
              "39     5.460000          71.10                71.936375"
            ]
          },
          "metadata": {},
          "execution_count": 56
        }
      ]
    },
    {
      "cell_type": "code",
      "metadata": {
        "colab": {
          "base_uri": "https://localhost:8080/"
        },
        "id": "hTXGZu53wOo0",
        "outputId": "4eaeb7df-7d90-4be0-d6f3-e29097f36ca9"
      },
      "source": [
        "lr.score(X_test,y_test)"
      ],
      "execution_count": null,
      "outputs": [
        {
          "output_type": "execute_result",
          "data": {
            "text/plain": [
              "0.9514124242154466"
            ]
          },
          "metadata": {},
          "execution_count": 57
        }
      ]
    },
    {
      "cell_type": "markdown",
      "metadata": {
        "id": "c70FZ13Hw9v7"
      },
      "source": [
        "Comparing Marks"
      ]
    },
    {
      "cell_type": "code",
      "metadata": {
        "colab": {
          "base_uri": "https://localhost:8080/",
          "height": 306
        },
        "id": "8E7dPOYnwegj",
        "outputId": "f2dd5202-ba20-4678-e748-f9e8d0d3d0ec"
      },
      "source": [
        "plt.scatter(x=X_test, y=y_test, color='blue')\n",
        "plt.plot(X_test, y_pred, color='Black')\n",
        "plt.title('Previous vs Predicted Marks', size=20)\n",
        "plt.ylabel('Marks Percentage', size=12)\n",
        "plt.xlabel('Hours Studied', size=12)\n",
        "plt.show()"
      ],
      "execution_count": null,
      "outputs": [
        {
          "output_type": "display_data",
          "data": {
            "image/png": "[encoded data removed]",
            "text/plain": [
              "<Figure size 432x288 with 1 Axes>"
            ]
          },
          "metadata": {}
        }
      ]
    },
    {
      "cell_type": "code",
      "metadata": {
        "colab": {
          "base_uri": "https://localhost:8080/"
        },
        "id": "9JxL4LbM11CS",
        "outputId": "3c8e9dad-4927-4885-8f32-e39b23737c48"
      },
      "source": [
        "print('Training Score:',lr.score(X_train,y_train))\n",
        "print('Test Score:',lr.score(X_test,y_test))"
      ],
      "execution_count": null,
      "outputs": [
        {
          "output_type": "stream",
          "text": [
            "Training Score: 0.9589875741425085\n",
            "Test Score: 0.9514124242154466\n"
          ],
          "name": "stdout"
        }
      ]
    },
    {
      "cell_type": "code",
      "metadata": {
        "colab": {
          "base_uri": "https://localhost:8080/"
        },
        "id": "E7cISPwU2N1H",
        "outputId": "a8eb3e22-e69f-4b64-e35b-40d4ecedeffa"
      },
      "source": [
        "#predicting scores\n",
        "hour=[float(input())]\n",
        "answer=lr.predict([hour])\n",
        "print('Hours student study={}'.format(hour))\n",
        "print('Predicted Marks={}'.format(answer[0]))"
      ],
      "execution_count": null,
      "outputs": [
        {
          "output_type": "stream",
          "text": [
            "9.25\n",
            "Hours student study=[9.25]\n",
            "Predicted Marks=[86.85274669]\n"
          ],
          "name": "stdout"
        }
      ]
    },
    {
      "cell_type": "markdown",
      "metadata": {
        "id": "lZNzIFuL4SqF"
      },
      "source": [
        "Model Performance"
      ]
    },
    {
      "cell_type": "code",
      "metadata": {
        "colab": {
          "base_uri": "https://localhost:8080/"
        },
        "id": "W_2Z6GBg4Ugl",
        "outputId": "bf2ab5d1-31bf-490e-8ef3-6346f4752960"
      },
      "source": [
        "print(\"R^2: {}\".format(lr.score(X_test, y_test)))\n",
        "rmse = np.sqrt(mean_squared_error(y_test,y_pred))\n",
        "print(\"Root Mean Squared Error: {}\".format(rmse))"
      ],
      "execution_count": null,
      "outputs": [
        {
          "output_type": "stream",
          "text": [
            "R^2: 0.9514124242154466\n",
            "Root Mean Squared Error: 1.0526176617137133\n"
          ],
          "name": "stdout"
        }
      ]
    }
  ]
}