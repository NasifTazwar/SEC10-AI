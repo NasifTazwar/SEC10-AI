{
  "nbformat": 4,
  "nbformat_minor": 0,
  "metadata": {
    "colab": {
      "name": "Cryptoarithmetic.ipynb",
      "provenance": [],
      "collapsed_sections": []
    },
    "kernelspec": {
      "name": "python3",
      "display_name": "Python 3"
    },
    "language_info": {
      "name": "python"
    }
  },
  "cells": [
    {
      "cell_type": "code",
      "metadata": {
        "id": "wBa2lpCAGbOF"
      },
      "source": [
        "import itertools"
      ],
      "execution_count": 12,
      "outputs": []
    },
    {
      "cell_type": "code",
      "metadata": {
        "id": "xJf5IgiEMB3u"
      },
      "source": [
        "def valueApply(word, subLetter):\n",
        "    s = 0\n",
        "    factor = 1\n",
        "    for letter in reversed(word):\n",
        "        s += factor * subLetter[letter]\n",
        "        factor *= 10\n",
        "    return s"
      ],
      "execution_count": 13,
      "outputs": []
    },
    {
      "cell_type": "code",
      "metadata": {
        "id": "V8B7sFcFMGLc"
      },
      "source": [
        "def cryptoArithmetic(string1):\n",
        "    left, right = string1.lower().replace(' ', '').split('=')\n",
        "    left = left.split('+')\n",
        "    letters = set(right)\n",
        "    for word in left:\n",
        "        for letter in word:\n",
        "            letters.add(letter)\n",
        "    letters = list(letters)\n",
        "\n",
        "    digits = range(10)\n",
        "    for permutation in itertools.permutations(digits, len(letters)):\n",
        "        sol = dict(zip(letters, permutation))\n",
        "\n",
        "        if sum(valueApply(word, sol) for word in left) == valueApply(right, sol):\n",
        "            print(' + '.join(str(valueApply(word, sol)) for word in left) + \" = {} (mapping: {})\".format(valueApply(right, sol), sol))\n"
      ],
      "execution_count": 14,
      "outputs": []
    },
    {
      "cell_type": "code",
      "metadata": {
        "colab": {
          "base_uri": "https://localhost:8080/"
        },
        "id": "kBxPPnoTMHKa",
        "outputId": "d45dcf3d-4c62-45ec-a698-c2a6f30d73dd"
      },
      "source": [
        "cryptoArithmetic('SEND + MORE = MONEY')"
      ],
      "execution_count": 16,
      "outputs": [
        {
          "output_type": "stream",
          "text": [
            "9567 + 1085 = 10652 (mapping: {'o': 0, 'n': 6, 'm': 1, 's': 9, 'd': 7, 'r': 8, 'e': 5, 'y': 2})\n",
            "2817 + 368 = 3185 (mapping: {'o': 3, 'n': 1, 'm': 0, 's': 2, 'd': 7, 'r': 6, 'e': 8, 'y': 5})\n",
            "2819 + 368 = 3187 (mapping: {'o': 3, 'n': 1, 'm': 0, 's': 2, 'd': 9, 'r': 6, 'e': 8, 'y': 7})\n",
            "3712 + 467 = 4179 (mapping: {'o': 4, 'n': 1, 'm': 0, 's': 3, 'd': 2, 'r': 6, 'e': 7, 'y': 9})\n",
            "3719 + 457 = 4176 (mapping: {'o': 4, 'n': 1, 'm': 0, 's': 3, 'd': 9, 'r': 5, 'e': 7, 'y': 6})\n",
            "3821 + 468 = 4289 (mapping: {'o': 4, 'n': 2, 'm': 0, 's': 3, 'd': 1, 'r': 6, 'e': 8, 'y': 9})\n",
            "3829 + 458 = 4287 (mapping: {'o': 4, 'n': 2, 'm': 0, 's': 3, 'd': 9, 'r': 5, 'e': 8, 'y': 7})\n",
            "5731 + 647 = 6378 (mapping: {'o': 6, 'n': 3, 'm': 0, 's': 5, 'd': 1, 'r': 4, 'e': 7, 'y': 8})\n",
            "5732 + 647 = 6379 (mapping: {'o': 6, 'n': 3, 'm': 0, 's': 5, 'd': 2, 'r': 4, 'e': 7, 'y': 9})\n",
            "5849 + 638 = 6487 (mapping: {'o': 6, 'n': 4, 'm': 0, 's': 5, 'd': 9, 'r': 3, 'e': 8, 'y': 7})\n",
            "6415 + 734 = 7149 (mapping: {'o': 7, 'n': 1, 'm': 0, 's': 6, 'd': 5, 'r': 3, 'e': 4, 'y': 9})\n",
            "6419 + 724 = 7143 (mapping: {'o': 7, 'n': 1, 'm': 0, 's': 6, 'd': 9, 'r': 2, 'e': 4, 'y': 3})\n",
            "6524 + 735 = 7259 (mapping: {'o': 7, 'n': 2, 'm': 0, 's': 6, 'd': 4, 'r': 3, 'e': 5, 'y': 9})\n",
            "6851 + 738 = 7589 (mapping: {'o': 7, 'n': 5, 'm': 0, 's': 6, 'd': 1, 'r': 3, 'e': 8, 'y': 9})\n",
            "6853 + 728 = 7581 (mapping: {'o': 7, 'n': 5, 'm': 0, 's': 6, 'd': 3, 'r': 2, 'e': 8, 'y': 1})\n",
            "7316 + 823 = 8139 (mapping: {'o': 8, 'n': 1, 'm': 0, 's': 7, 'd': 6, 'r': 2, 'e': 3, 'y': 9})\n",
            "7429 + 814 = 8243 (mapping: {'o': 8, 'n': 2, 'm': 0, 's': 7, 'd': 9, 'r': 1, 'e': 4, 'y': 3})\n",
            "7531 + 825 = 8356 (mapping: {'o': 8, 'n': 3, 'm': 0, 's': 7, 'd': 1, 'r': 2, 'e': 5, 'y': 6})\n",
            "7534 + 825 = 8359 (mapping: {'o': 8, 'n': 3, 'm': 0, 's': 7, 'd': 4, 'r': 2, 'e': 5, 'y': 9})\n",
            "7539 + 815 = 8354 (mapping: {'o': 8, 'n': 3, 'm': 0, 's': 7, 'd': 9, 'r': 1, 'e': 5, 'y': 4})\n",
            "7643 + 826 = 8469 (mapping: {'o': 8, 'n': 4, 'm': 0, 's': 7, 'd': 3, 'r': 2, 'e': 6, 'y': 9})\n",
            "7649 + 816 = 8465 (mapping: {'o': 8, 'n': 4, 'm': 0, 's': 7, 'd': 9, 'r': 1, 'e': 6, 'y': 5})\n",
            "8324 + 913 = 9237 (mapping: {'o': 9, 'n': 2, 'm': 0, 's': 8, 'd': 4, 'r': 1, 'e': 3, 'y': 7})\n",
            "8432 + 914 = 9346 (mapping: {'o': 9, 'n': 3, 'm': 0, 's': 8, 'd': 2, 'r': 1, 'e': 4, 'y': 6})\n",
            "8542 + 915 = 9457 (mapping: {'o': 9, 'n': 4, 'm': 0, 's': 8, 'd': 2, 'r': 1, 'e': 5, 'y': 7})\n"
          ],
          "name": "stdout"
        }
      ]
    },
    {
      "cell_type": "code",
      "metadata": {
        "colab": {
          "base_uri": "https://localhost:8080/"
        },
        "id": "djsz6qkRMXH6",
        "outputId": "5b43a47f-ee31-46c5-b90c-c09c5d2b1de3"
      },
      "source": [
        "cryptoArithmetic('TWO + TWO = FOUR')"
      ],
      "execution_count": 17,
      "outputs": [
        {
          "output_type": "stream",
          "text": [
            "132 + 132 = 264 (mapping: {'o': 2, 't': 1, 'f': 0, 'w': 3, 'r': 4, 'u': 6})\n",
            "173 + 173 = 346 (mapping: {'o': 3, 't': 1, 'f': 0, 'w': 7, 'r': 6, 'u': 4})\n",
            "193 + 193 = 386 (mapping: {'o': 3, 't': 1, 'f': 0, 'w': 9, 'r': 6, 'u': 8})\n",
            "234 + 234 = 468 (mapping: {'o': 4, 't': 2, 'f': 0, 'w': 3, 'r': 8, 'u': 6})\n",
            "734 + 734 = 1468 (mapping: {'o': 4, 't': 7, 'f': 1, 'w': 3, 'r': 8, 'u': 6})\n",
            "765 + 765 = 1530 (mapping: {'o': 5, 't': 7, 'f': 1, 'w': 6, 'r': 0, 'u': 3})\n",
            "346 + 346 = 692 (mapping: {'o': 6, 't': 3, 'f': 0, 'w': 4, 'r': 2, 'u': 9})\n",
            "836 + 836 = 1672 (mapping: {'o': 6, 't': 8, 'f': 1, 'w': 3, 'r': 2, 'u': 7})\n",
            "846 + 846 = 1692 (mapping: {'o': 6, 't': 8, 'f': 1, 'w': 4, 'r': 2, 'u': 9})\n",
            "357 + 357 = 714 (mapping: {'o': 7, 't': 3, 'f': 0, 'w': 5, 'r': 4, 'u': 1})\n",
            "867 + 867 = 1734 (mapping: {'o': 7, 't': 8, 'f': 1, 'w': 6, 'r': 4, 'u': 3})\n",
            "418 + 418 = 836 (mapping: {'o': 8, 't': 4, 'f': 0, 'w': 1, 'r': 6, 'u': 3})\n",
            "428 + 428 = 856 (mapping: {'o': 8, 't': 4, 'f': 0, 'w': 2, 'r': 6, 'u': 5})\n",
            "438 + 438 = 876 (mapping: {'o': 8, 't': 4, 'f': 0, 'w': 3, 'r': 6, 'u': 7})\n",
            "928 + 928 = 1856 (mapping: {'o': 8, 't': 9, 'f': 1, 'w': 2, 'r': 6, 'u': 5})\n",
            "938 + 938 = 1876 (mapping: {'o': 8, 't': 9, 'f': 1, 'w': 3, 'r': 6, 'u': 7})\n",
            "459 + 459 = 918 (mapping: {'o': 9, 't': 4, 'f': 0, 'w': 5, 'r': 8, 'u': 1})\n",
            "469 + 469 = 938 (mapping: {'o': 9, 't': 4, 'f': 0, 'w': 6, 'r': 8, 'u': 3})\n",
            "479 + 479 = 958 (mapping: {'o': 9, 't': 4, 'f': 0, 'w': 7, 'r': 8, 'u': 5})\n"
          ],
          "name": "stdout"
        }
      ]
    }
  ]
}